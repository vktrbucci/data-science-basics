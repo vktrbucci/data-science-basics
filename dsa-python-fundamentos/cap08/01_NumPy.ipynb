{
 "cells": [
  {
   "cell_type": "markdown",
   "metadata": {},
   "source": [
    "# Módulos Python para Análise de Dados"
   ]
  },
  {
   "cell_type": "markdown",
   "metadata": {},
   "source": [
    "## NumPy"
   ]
  },
  {
   "cell_type": "code",
   "execution_count": 3,
   "metadata": {},
   "outputs": [],
   "source": [
    "# Importando o NumPy\n",
    "import numpy as np"
   ]
  },
  {
   "cell_type": "code",
   "execution_count": 3,
   "metadata": {},
   "outputs": [
    {
     "data": {
      "text/plain": [
       "'1.19.1'"
      ]
     },
     "execution_count": 3,
     "metadata": {},
     "output_type": "execute_result"
    }
   ],
   "source": [
    "# Verificando a versão do NumPy\n",
    "np.__version__"
   ]
  },
  {
   "cell_type": "markdown",
   "metadata": {},
   "source": [
    "### Criando Arrays"
   ]
  },
  {
   "cell_type": "code",
   "execution_count": 3,
   "metadata": {
    "tags": []
   },
   "outputs": [
    {
     "name": "stdout",
     "output_type": "stream",
     "text": [
      "[0 1 2 3 4 5 6 7 8 9]\n"
     ]
    }
   ],
   "source": [
    "# A partir de uma lista\n",
    "vetor = np.array([0, 1, 2, 3, 4, 5, 6, 7, 8, 9])\n",
    "print(vetor)"
   ]
  },
  {
   "cell_type": "code",
   "execution_count": 4,
   "metadata": {},
   "outputs": [
    {
     "name": "stdout",
     "output_type": "stream",
     "text": [
      "[ 0  1  3  6 10 15 21 28 36 45]\n"
     ]
    }
   ],
   "source": [
    "# Arrays NumPy possuem bem mais métodos que listas built-in, por exemplo o método cumsum(), que calcula a soma cumulativa dos elementos\n",
    "# Veremos outros métodos, principalmente envolvendo estatística, mais a frente\n",
    "print(vetor.cumsum())"
   ]
  },
  {
   "cell_type": "code",
   "execution_count": 10,
   "metadata": {},
   "outputs": [
    {
     "data": {
      "text/plain": [
       "2"
      ]
     },
     "execution_count": 10,
     "metadata": {},
     "output_type": "execute_result"
    }
   ],
   "source": [
    "# Acessar e alterar um elemento específico do array NumPy obedece a mesma regra de slicing em Python\n",
    "vetor[2]"
   ]
  },
  {
   "cell_type": "code",
   "execution_count": 6,
   "metadata": {},
   "outputs": [
    {
     "name": "stdout",
     "output_type": "stream",
     "text": [
      "[ 0 69  2  3  4  5  6  7  8  9]\n"
     ]
    }
   ],
   "source": [
    "# Alterando o valor de um elemento diretamente\n",
    "vetor[1] = 69\n",
    "print(vetor)"
   ]
  },
  {
   "cell_type": "code",
   "execution_count": 12,
   "metadata": {},
   "outputs": [
    {
     "ename": "ValueError",
     "evalue": "invalid literal for int() with base 10: 'Carai biridin, deu ruim'",
     "output_type": "error",
     "traceback": [
      "\u001b[0;31m---------------------------------------------------------------------------\u001b[0m",
      "\u001b[0;31mValueError\u001b[0m                                Traceback (most recent call last)",
      "\u001b[0;32m<ipython-input-12-c2e0e27016bd>\u001b[0m in \u001b[0;36m<module>\u001b[0;34m\u001b[0m\n\u001b[1;32m      1\u001b[0m \u001b[0;31m# Porém, não é possível incluir elementos de ouro tipo dos já declarados no array\u001b[0m\u001b[0;34m\u001b[0m\u001b[0;34m\u001b[0m\u001b[0;34m\u001b[0m\u001b[0m\n\u001b[0;32m----> 2\u001b[0;31m \u001b[0mvetor\u001b[0m\u001b[0;34m[\u001b[0m\u001b[0;36m0\u001b[0m\u001b[0;34m]\u001b[0m \u001b[0;34m=\u001b[0m \u001b[0;34m'Carai biridin, deu ruim'\u001b[0m\u001b[0;34m\u001b[0m\u001b[0;34m\u001b[0m\u001b[0m\n\u001b[0m",
      "\u001b[0;31mValueError\u001b[0m: invalid literal for int() with base 10: 'Carai biridin, deu ruim'"
     ]
    }
   ],
   "source": [
    "# Porém, não é possível incluir elementos de ouro tipo dos já declarados no array\n",
    "vetor[0] = 'Carai biridin, deu ruim'"
   ]
  },
  {
   "cell_type": "code",
   "execution_count": 7,
   "metadata": {},
   "outputs": [
    {
     "name": "stdout",
     "output_type": "stream",
     "text": [
      "(10,)\n"
     ]
    }
   ],
   "source": [
    "# Verificando o formato do array\n",
    "# Retorna a quantidade de elementos em cada dimensão\n",
    "print(vetor.shape)"
   ]
  },
  {
   "cell_type": "markdown",
   "metadata": {},
   "source": [
    "### Funções NumPy"
   ]
  },
  {
   "cell_type": "code",
   "execution_count": 8,
   "metadata": {
    "tags": []
   },
   "outputs": [
    {
     "name": "stdout",
     "output_type": "stream",
     "text": [
      "[0 1 2 3 4 5 6 7 8 9]\n"
     ]
    }
   ],
   "source": [
    "# arange(), similar ao range() built-in do Python\n",
    "vetor2 = np.arange(0, 10)\n",
    "print(vetor2)"
   ]
  },
  {
   "cell_type": "code",
   "execution_count": 9,
   "metadata": {},
   "outputs": [
    {
     "data": {
      "text/plain": [
       "numpy.ndarray"
      ]
     },
     "execution_count": 9,
     "metadata": {},
     "output_type": "execute_result"
    }
   ],
   "source": [
    "# Verificando o tipo do objeto\n",
    "type(vetor2)"
   ]
  },
  {
   "cell_type": "code",
   "execution_count": 10,
   "metadata": {
    "tags": []
   },
   "outputs": [
    {
     "name": "stdout",
     "output_type": "stream",
     "text": [
      "int64\n"
     ]
    }
   ],
   "source": [
    "# Verificando o tipo dos elementos do array\n",
    "print(vetor2.dtype)"
   ]
  },
  {
   "cell_type": "code",
   "execution_count": 11,
   "metadata": {
    "tags": []
   },
   "outputs": [
    {
     "name": "stdout",
     "output_type": "stream",
     "text": [
      "[0. 0. 0. 0. 0. 0. 0. 0. 0. 0.] float64\n"
     ]
    }
   ],
   "source": [
    "# É possível criar um array contendo apenas zeros\n",
    "vetorZero = np.zeros(10)\n",
    "print(vetorZero, vetorZero.dtype)"
   ]
  },
  {
   "cell_type": "code",
   "execution_count": 12,
   "metadata": {},
   "outputs": [
    {
     "data": {
      "text/plain": [
       "array([[1., 0., 0.],\n",
       "       [0., 1., 0.],\n",
       "       [0., 0., 1.]])"
      ]
     },
     "execution_count": 12,
     "metadata": {},
     "output_type": "execute_result"
    }
   ],
   "source": [
    "# Criando uma matriz identidade (elementos 1 na diagonal principal e 0 no restante)\n",
    "matrizIdentidade = np.eye(3)        # Matriz 3x3\n",
    "# matrizIdentidade = np.eye(3, 4)     # Matriz 3x4\n",
    "# matrizIdentidade = np.eye(3, 4, 1)  # Matriz 3x4 com diagonal deslocada\n",
    "matrizIdentidade"
   ]
  },
  {
   "cell_type": "code",
   "execution_count": 13,
   "metadata": {},
   "outputs": [
    {
     "data": {
      "text/plain": [
       "array([[1, 0, 0, 0],\n",
       "       [0, 2, 0, 0],\n",
       "       [0, 0, 3, 0],\n",
       "       [0, 0, 0, 4]])"
      ]
     },
     "execution_count": 13,
     "metadata": {},
     "output_type": "execute_result"
    }
   ],
   "source": [
    "# Cria uma matriz cuja diagonal recebe os valores passados\n",
    "diagonal = np.arange(1,5)\n",
    "matriz = np.diag(diagonal)\n",
    "matriz"
   ]
  },
  {
   "cell_type": "code",
   "execution_count": 14,
   "metadata": {},
   "outputs": [
    {
     "data": {
      "text/plain": [
       "array([1.+2.j, 3.+4.j, 5.+6.j])"
      ]
     },
     "execution_count": 14,
     "metadata": {},
     "output_type": "execute_result"
    }
   ],
   "source": [
    "# É possível criar um array de números complexos\n",
    "c = np.array([1+2j, 3+4j, 5+6*1j])\n",
    "c"
   ]
  },
  {
   "cell_type": "code",
   "execution_count": 15,
   "metadata": {},
   "outputs": [
    {
     "data": {
      "text/plain": [
       "array([ True, False, False,  True])"
      ]
     },
     "execution_count": 15,
     "metadata": {},
     "output_type": "execute_result"
    }
   ],
   "source": [
    "# É possível criar um array de valores booleanos\n",
    "b = np.array([True, False, False, True])\n",
    "# np.diag(b)  # Também dá pra criar a diagonal com valores booleanos. Joga False no resto.\n",
    "b"
   ]
  },
  {
   "cell_type": "code",
   "execution_count": 16,
   "metadata": {
    "tags": []
   },
   "outputs": [
    {
     "name": "stdout",
     "output_type": "stream",
     "text": [
      "['Carai' 'biridin' 'bagulho' 'é' 'doido'] <class 'numpy.ndarray'>\n"
     ]
    }
   ],
   "source": [
    "# Array de strings\n",
    "s = np.array(['Carai', 'biridin', 'bagulho', 'é', 'doido'])\n",
    "print(s, type(s))"
   ]
  },
  {
   "cell_type": "code",
   "execution_count": 25,
   "metadata": {},
   "outputs": [
    {
     "data": {
      "text/plain": [
       "array([  0.        ,  10.71428571,  21.42857143,  32.14285714,\n",
       "        42.85714286,  53.57142857,  64.28571429,  75.        ,\n",
       "        85.71428571,  96.42857143, 107.14285714, 117.85714286,\n",
       "       128.57142857, 139.28571429, 150.        ])"
      ]
     },
     "execution_count": 25,
     "metadata": {},
     "output_type": "execute_result"
    }
   ],
   "source": [
    "# Linspace retorna uma quantidade de valores igualmente distribuídos no intervalo especificado\n",
    "# np.linspace(0,10)   # Sem o terceiro parâmetro, retorna matriz 10 x 5 (50 valores)\n",
    "np.linspace(0,150,15) # Retorna 15 valores igualmente distribuídos entre 0 e 150, inclusive"
   ]
  },
  {
   "cell_type": "code",
   "execution_count": 31,
   "metadata": {},
   "outputs": [
    {
     "data": {
      "text/plain": [
       "array([1.00000000e+00, 4.28133240e+02, 1.83298071e+05, 7.84759970e+07,\n",
       "       3.35981829e+10, 1.43844989e+13, 6.15848211e+15, 2.63665090e+18,\n",
       "       1.12883789e+21, 4.83293024e+23, 2.06913808e+26, 8.85866790e+28,\n",
       "       3.79269019e+31, 1.62377674e+34, 6.95192796e+36, 2.97635144e+39,\n",
       "       1.27427499e+42, 5.45559478e+44, 2.33572147e+47, 1.00000000e+50])"
      ]
     },
     "execution_count": 31,
     "metadata": {},
     "output_type": "execute_result"
    }
   ],
   "source": [
    "# Conversão para log\n",
    "np.logspace(0,50, 20) # Funciona da mesma forma que o linspace, mas com logaritmos "
   ]
  },
  {
   "cell_type": "markdown",
   "metadata": {},
   "source": [
    "### Criando Matrizes"
   ]
  },
  {
   "cell_type": "code",
   "execution_count": 34,
   "metadata": {},
   "outputs": [
    {
     "name": "stdout",
     "output_type": "stream",
     "text": [
      "[[1 2 3]\n",
      " [4 5 6]] (2, 3)\n"
     ]
    }
   ],
   "source": [
    "# Matrizes são arrays bidimensionais. Já vimos algumas delas\n",
    "matriz = np.array([[1,2,3], [4,5,6]]) # Notar colchetes adicionais dentro dos parênteses\n",
    "print(matriz, matriz.shape)"
   ]
  },
  {
   "cell_type": "code",
   "execution_count": 38,
   "metadata": {},
   "outputs": [
    {
     "name": "stdout",
     "output_type": "stream",
     "text": [
      "[[1. 1. 1.]\n",
      " [1. 1. 1.]\n",
      " [1. 1. 1.]\n",
      " [1. 1. 1.]\n",
      " [1. 1. 1.]]\n"
     ]
    }
   ],
   "source": [
    "# Matriz com apenas elementos 1\n",
    "matrizOnes = np.ones((5, 3)) # Notar parênteses duplos\n",
    "print(matrizOnes)"
   ]
  },
  {
   "cell_type": "code",
   "execution_count": 42,
   "metadata": {},
   "outputs": [
    {
     "data": {
      "text/plain": [
       "matrix([[  22,   42,   51],\n",
       "        [  69,   71,   31],\n",
       "        [  12,    8, 1911]])"
      ]
     },
     "execution_count": 42,
     "metadata": {},
     "output_type": "execute_result"
    }
   ],
   "source": [
    "# Criando matrizes a partir de uma lista\n",
    "elementos = [[22, 42, 51], [69, 71, 31], [12, 8, 1911]]\n",
    "matriz2 = np.matrix(elementos)\n",
    "matriz2"
   ]
  },
  {
   "cell_type": "code",
   "execution_count": 45,
   "metadata": {},
   "outputs": [
    {
     "data": {
      "text/plain": [
       "(3, 3)"
      ]
     },
     "execution_count": 45,
     "metadata": {},
     "output_type": "execute_result"
    }
   ],
   "source": [
    "# Forma da matriz\n",
    "np.shape(matriz2)"
   ]
  },
  {
   "cell_type": "code",
   "execution_count": 46,
   "metadata": {},
   "outputs": [
    {
     "data": {
      "text/plain": [
       "9"
      ]
     },
     "execution_count": 46,
     "metadata": {},
     "output_type": "execute_result"
    }
   ],
   "source": [
    "# Tamanho da matriz\n",
    "matriz2.size"
   ]
  },
  {
   "cell_type": "code",
   "execution_count": 47,
   "metadata": {},
   "outputs": [
    {
     "data": {
      "text/plain": [
       "8"
      ]
     },
     "execution_count": 47,
     "metadata": {},
     "output_type": "execute_result"
    }
   ],
   "source": [
    "# Tamanho de cada item (na memória)\n",
    "matriz2.itemsize"
   ]
  },
  {
   "cell_type": "code",
   "execution_count": 49,
   "metadata": {},
   "outputs": [
    {
     "data": {
      "text/plain": [
       "72"
      ]
     },
     "execution_count": 49,
     "metadata": {},
     "output_type": "execute_result"
    }
   ],
   "source": [
    "# Tamanho da matriz (na memória)\n",
    "# matriz2.size * matriz2.itemsize\n",
    "matriz2.nbytes"
   ]
  },
  {
   "cell_type": "code",
   "execution_count": 51,
   "metadata": {},
   "outputs": [
    {
     "name": "stdout",
     "output_type": "stream",
     "text": [
      "69\n"
     ]
    }
   ],
   "source": [
    "# Acessar e alterar elementos de uma matriz também é feito por notação de slicing\n",
    "print(matriz2[1, 0]) # Elemento na segunda linha, primeira coluna"
   ]
  },
  {
   "cell_type": "code",
   "execution_count": 52,
   "metadata": {},
   "outputs": [
    {
     "name": "stdout",
     "output_type": "stream",
     "text": [
      "[[  22   42   51]\n",
      " [  69   71   31]\n",
      " [  12   21 1911]]\n"
     ]
    }
   ],
   "source": [
    "matriz2[2, 1] = 21\n",
    "print(matriz2)"
   ]
  },
  {
   "cell_type": "code",
   "execution_count": 54,
   "metadata": {},
   "outputs": [
    {
     "name": "stdout",
     "output_type": "stream",
     "text": [
      "[1 2]\n"
     ]
    }
   ],
   "source": [
    "# Definindo o tipo de dado do array ou matriz\n",
    "x = np.array([1, 2]) # Recebeu elementos int, NumPy declara como int\n",
    "print(x)"
   ]
  },
  {
   "cell_type": "code",
   "execution_count": 56,
   "metadata": {},
   "outputs": [
    {
     "name": "stdout",
     "output_type": "stream",
     "text": [
      "[1. 2.]\n"
     ]
    }
   ],
   "source": [
    "y = np.array([1.0, 2.0]) # Recebeu elementos float, NumPy declara float\n",
    "print(y)"
   ]
  },
  {
   "cell_type": "code",
   "execution_count": 58,
   "metadata": {},
   "outputs": [
    {
     "name": "stdout",
     "output_type": "stream",
     "text": [
      "[1. 2.]\n"
     ]
    }
   ],
   "source": [
    "z = np.array([1, 2], dtype=np.float64) # Recebeu elementos int, mas forçamos float\n",
    "print(z)"
   ]
  },
  {
   "cell_type": "markdown",
   "metadata": {},
   "source": [
    "### Métodos e Operações com Datasets"
   ]
  },
  {
   "cell_type": "markdown",
   "metadata": {},
   "source": [
    "#### O método random()"
   ]
  },
  {
   "cell_type": "code",
   "execution_count": 9,
   "metadata": {},
   "outputs": [
    {
     "name": "stdout",
     "output_type": "stream",
     "text": [
      "[0.45896231 0.4679868  0.4219879  0.69949907 0.22954666 0.73044131\n",
      " 0.05843007 0.14104275 0.65414281 0.49026686]\n"
     ]
    }
   ],
   "source": [
    "# Gerando números randômicos\n",
    "print(np.random.rand(10))"
   ]
  },
  {
   "cell_type": "code",
   "execution_count": 10,
   "metadata": {},
   "outputs": [],
   "source": [
    "import matplotlib.pyplot as plt\n",
    "%matplotlib inline"
   ]
  },
  {
   "cell_type": "code",
   "execution_count": 16,
   "metadata": {},
   "outputs": [
    {
     "data": {
      "image/png": "[encoded data removed]",
      "text/plain": [
       "<Figure size 432x288 with 1 Axes>"
      ]
     },
     "metadata": {
      "needs_background": "light"
     },
     "output_type": "display_data"
    }
   ],
   "source": [
    "numbers = np.random.rand(1000)\n",
    "plt.show(plt.hist(numbers))"
   ]
  },
  {
   "cell_type": "code",
   "execution_count": 35,
   "metadata": {},
   "outputs": [
    {
     "name": "stdout",
     "output_type": "stream",
     "text": [
      "[[ 0.0636986  -0.39632233  0.33250381 -0.68802134 -1.04696457]\n",
      " [ 2.38245413  0.50995123  1.54544453  0.29518712  0.2112009 ]\n",
      " [ 1.00498213 -1.02855943 -0.70945708 -0.3885865   0.85720851]\n",
      " [-1.22385948 -1.77869881  0.75418746  0.47141382 -0.60187808]\n",
      " [ 0.47926763 -1.79094584 -0.2046265   0.26562169  0.85713948]]\n"
     ]
    }
   ],
   "source": [
    "# Criando uma distribuição normal\n",
    "normal = np.random.randn(5, 5)\n",
    "print(normal)"
   ]
  },
  {
   "cell_type": "code",
   "execution_count": 34,
   "metadata": {},
   "outputs": [
    {
     "data": {
      "image/png": "[encoded data removed]",
      "text/plain": [
       "<Figure size 432x288 with 1 Axes>"
      ]
     },
     "metadata": {
      "needs_background": "light"
     },
     "output_type": "display_data"
    }
   ],
   "source": [
    "plt.show(plt.hist(np.random.randn(100)))"
   ]
  },
  {
   "cell_type": "code",
   "execution_count": 42,
   "metadata": {},
   "outputs": [
    {
     "data": {
      "text/plain": [
       "<matplotlib.colorbar.Colorbar at 0x7f8ddfae1240>"
      ]
     },
     "execution_count": 42,
     "metadata": {},
     "output_type": "execute_result"
    },
    {
     "data": {
      "image/png": "[encoded data removed]",
      "text/plain": [
       "<Figure size 432x288 with 2 Axes>"
      ]
     },
     "metadata": {
      "needs_background": "light"
     },
     "output_type": "display_data"
    }
   ],
   "source": [
    "image = np.random.rand(30,30)\n",
    "plt.imshow(image, cmap=plt.cm.hot)\n",
    "plt.colorbar()"
   ]
  },
  {
   "cell_type": "markdown",
   "metadata": {},
   "source": [
    "### Operações com Datasets"
   ]
  },
  {
   "cell_type": "markdown",
   "metadata": {},
   "source": [
    "É possível realizar operações com datasets com o NumPy. Porém, é recomendável utilizar o Pandas para essa finalidade."
   ]
  },
  {
   "cell_type": "code",
   "execution_count": 43,
   "metadata": {},
   "outputs": [],
   "source": [
    "import os # Biblioteca para acesso a recursos do sistema operacional"
   ]
  },
  {
   "cell_type": "code",
   "execution_count": 46,
   "metadata": {},
   "outputs": [
    {
     "name": "stdout",
     "output_type": "stream",
     "text": [
      "Id,SepalLengthCm,SepalWidthCm,PetalLengthCm,PetalWidthCm,Species\r\n",
      "1,5.1,3.5,1.4,0.2,Iris-setosa\r\n",
      "2,4.9,3.0,1.4,0.2,Iris-setosa\r\n",
      "3,4.7,3.2,1.3,0.2,Iris-setosa\r\n",
      "4,4.6,3.1,1.5,0.2,Iris-setosa\r\n",
      "5,5.0,3.6,1.4,0.2,Iris-setosa\r\n",
      "6,5.4,3.9,1.7,0.4,Iris-setosa\r\n",
      "7,4.6,3.4,1.4,0.3,Iris-setosa\r\n",
      "8,5.0,3.4,1.5,0.2,Iris-setosa\r\n",
      "9,4.4,2.9,1.4,0.2,Iris-setosa\r\n"
     ]
    }
   ],
   "source": [
    "filename = os.path.join('Iris.csv')\n",
    "!head Iris.csv"
   ]
  },
  {
   "cell_type": "code",
   "execution_count": 58,
   "metadata": {},
   "outputs": [
    {
     "name": "stdout",
     "output_type": "stream",
     "text": [
      "[[  1.    5.1   3.5   1.4]\n",
      " [  2.    4.9   3.    1.4]\n",
      " [  3.    4.7   3.2   1.3]\n",
      " [  4.    4.6   3.1   1.5]\n",
      " [  5.    5.    3.6   1.4]\n",
      " [  6.    5.4   3.9   1.7]\n",
      " [  7.    4.6   3.4   1.4]\n",
      " [  8.    5.    3.4   1.5]\n",
      " [  9.    4.4   2.9   1.4]\n",
      " [ 10.    4.9   3.1   1.5]\n",
      " [ 11.    5.4   3.7   1.5]\n",
      " [ 12.    4.8   3.4   1.6]\n",
      " [ 13.    4.8   3.    1.4]\n",
      " [ 14.    4.3   3.    1.1]\n",
      " [ 15.    5.8   4.    1.2]\n",
      " [ 16.    5.7   4.4   1.5]\n",
      " [ 17.    5.4   3.9   1.3]\n",
      " [ 18.    5.1   3.5   1.4]\n",
      " [ 19.    5.7   3.8   1.7]\n",
      " [ 20.    5.1   3.8   1.5]\n",
      " [ 21.    5.4   3.4   1.7]\n",
      " [ 22.    5.1   3.7   1.5]\n",
      " [ 23.    4.6   3.6   1. ]\n",
      " [ 24.    5.1   3.3   1.7]\n",
      " [ 25.    4.8   3.4   1.9]\n",
      " [ 26.    5.    3.    1.6]\n",
      " [ 27.    5.    3.4   1.6]\n",
      " [ 28.    5.2   3.5   1.5]\n",
      " [ 29.    5.2   3.4   1.4]\n",
      " [ 30.    4.7   3.2   1.6]\n",
      " [ 31.    4.8   3.1   1.6]\n",
      " [ 32.    5.4   3.4   1.5]\n",
      " [ 33.    5.2   4.1   1.5]\n",
      " [ 34.    5.5   4.2   1.4]\n",
      " [ 35.    4.9   3.1   1.5]\n",
      " [ 36.    5.    3.2   1.2]\n",
      " [ 37.    5.5   3.5   1.3]\n",
      " [ 38.    4.9   3.1   1.5]\n",
      " [ 39.    4.4   3.    1.3]\n",
      " [ 40.    5.1   3.4   1.5]\n",
      " [ 41.    5.    3.5   1.3]\n",
      " [ 42.    4.5   2.3   1.3]\n",
      " [ 43.    4.4   3.2   1.3]\n",
      " [ 44.    5.    3.5   1.6]\n",
      " [ 45.    5.1   3.8   1.9]\n",
      " [ 46.    4.8   3.    1.4]\n",
      " [ 47.    5.1   3.8   1.6]\n",
      " [ 48.    4.6   3.2   1.4]\n",
      " [ 49.    5.3   3.7   1.5]\n",
      " [ 50.    5.    3.3   1.4]\n",
      " [ 51.    7.    3.2   4.7]\n",
      " [ 52.    6.4   3.2   4.5]\n",
      " [ 53.    6.9   3.1   4.9]\n",
      " [ 54.    5.5   2.3   4. ]\n",
      " [ 55.    6.5   2.8   4.6]\n",
      " [ 56.    5.7   2.8   4.5]\n",
      " [ 57.    6.3   3.3   4.7]\n",
      " [ 58.    4.9   2.4   3.3]\n",
      " [ 59.    6.6   2.9   4.6]\n",
      " [ 60.    5.2   2.7   3.9]\n",
      " [ 61.    5.    2.    3.5]\n",
      " [ 62.    5.9   3.    4.2]\n",
      " [ 63.    6.    2.2   4. ]\n",
      " [ 64.    6.1   2.9   4.7]\n",
      " [ 65.    5.6   2.9   3.6]\n",
      " [ 66.    6.7   3.1   4.4]\n",
      " [ 67.    5.6   3.    4.5]\n",
      " [ 68.    5.8   2.7   4.1]\n",
      " [ 69.    6.2   2.2   4.5]\n",
      " [ 70.    5.6   2.5   3.9]\n",
      " [ 71.    5.9   3.2   4.8]\n",
      " [ 72.    6.1   2.8   4. ]\n",
      " [ 73.    6.3   2.5   4.9]\n",
      " [ 74.    6.1   2.8   4.7]\n",
      " [ 75.    6.4   2.9   4.3]\n",
      " [ 76.    6.6   3.    4.4]\n",
      " [ 77.    6.8   2.8   4.8]\n",
      " [ 78.    6.7   3.    5. ]\n",
      " [ 79.    6.    2.9   4.5]\n",
      " [ 80.    5.7   2.6   3.5]\n",
      " [ 81.    5.5   2.4   3.8]\n",
      " [ 82.    5.5   2.4   3.7]\n",
      " [ 83.    5.8   2.7   3.9]\n",
      " [ 84.    6.    2.7   5.1]\n",
      " [ 85.    5.4   3.    4.5]\n",
      " [ 86.    6.    3.4   4.5]\n",
      " [ 87.    6.7   3.1   4.7]\n",
      " [ 88.    6.3   2.3   4.4]\n",
      " [ 89.    5.6   3.    4.1]\n",
      " [ 90.    5.5   2.5   4. ]\n",
      " [ 91.    5.5   2.6   4.4]\n",
      " [ 92.    6.1   3.    4.6]\n",
      " [ 93.    5.8   2.6   4. ]\n",
      " [ 94.    5.    2.3   3.3]\n",
      " [ 95.    5.6   2.7   4.2]\n",
      " [ 96.    5.7   3.    4.2]\n",
      " [ 97.    5.7   2.9   4.2]\n",
      " [ 98.    6.2   2.9   4.3]\n",
      " [ 99.    5.1   2.5   3. ]\n",
      " [100.    5.7   2.8   4.1]\n",
      " [101.    6.3   3.3   6. ]\n",
      " [102.    5.8   2.7   5.1]\n",
      " [103.    7.1   3.    5.9]\n",
      " [104.    6.3   2.9   5.6]\n",
      " [105.    6.5   3.    5.8]\n",
      " [106.    7.6   3.    6.6]\n",
      " [107.    4.9   2.5   4.5]\n",
      " [108.    7.3   2.9   6.3]\n",
      " [109.    6.7   2.5   5.8]\n",
      " [110.    7.2   3.6   6.1]\n",
      " [111.    6.5   3.2   5.1]\n",
      " [112.    6.4   2.7   5.3]\n",
      " [113.    6.8   3.    5.5]\n",
      " [114.    5.7   2.5   5. ]\n",
      " [115.    5.8   2.8   5.1]\n",
      " [116.    6.4   3.2   5.3]\n",
      " [117.    6.5   3.    5.5]\n",
      " [118.    7.7   3.8   6.7]\n",
      " [119.    7.7   2.6   6.9]\n",
      " [120.    6.    2.2   5. ]\n",
      " [121.    6.9   3.2   5.7]\n",
      " [122.    5.6   2.8   4.9]\n",
      " [123.    7.7   2.8   6.7]\n",
      " [124.    6.3   2.7   4.9]\n",
      " [125.    6.7   3.3   5.7]\n",
      " [126.    7.2   3.2   6. ]\n",
      " [127.    6.2   2.8   4.8]\n",
      " [128.    6.1   3.    4.9]\n",
      " [129.    6.4   2.8   5.6]\n",
      " [130.    7.2   3.    5.8]\n",
      " [131.    7.4   2.8   6.1]\n",
      " [132.    7.9   3.8   6.4]\n",
      " [133.    6.4   2.8   5.6]\n",
      " [134.    6.3   2.8   5.1]\n",
      " [135.    6.1   2.6   5.6]\n",
      " [136.    7.7   3.    6.1]\n",
      " [137.    6.3   3.4   5.6]\n",
      " [138.    6.4   3.1   5.5]\n",
      " [139.    6.    3.    4.8]\n",
      " [140.    6.9   3.1   5.4]\n",
      " [141.    6.7   3.1   5.6]\n",
      " [142.    6.9   3.1   5.1]\n",
      " [143.    5.8   2.7   5.1]\n",
      " [144.    6.8   3.2   5.9]\n",
      " [145.    6.7   3.3   5.7]\n",
      " [146.    6.7   3.    5.2]\n",
      " [147.    6.3   2.5   5. ]\n",
      " [148.    6.5   3.    5.2]\n",
      " [149.    6.2   3.4   5.4]\n",
      " [150.    5.9   3.    5.1]]\n"
     ]
    }
   ],
   "source": [
    "# Carregando dataset em arquivo para um array\n",
    "arquivo = np.loadtxt(filename, delimiter=',', skiprows=1, usecols=(0,1,2,3))\n",
    "print(arquivo)"
   ]
  },
  {
   "cell_type": "code",
   "execution_count": 59,
   "metadata": {},
   "outputs": [
    {
     "data": {
      "image/png": "[encoded data removed]",
      "text/plain": [
       "<Figure size 432x288 with 1 Axes>"
      ]
     },
     "metadata": {
      "needs_background": "light"
     },
     "output_type": "display_data"
    }
   ],
   "source": [
    "# Gerando plot a partir do arquivo\n",
    "var1, var2 = np.loadtxt(filename, delimiter=',', usecols=(0,1), skiprows=1, unpack=True)\n",
    "plt.plot(var1, var2, 'o', markersize=8, alpha=0.75)\n",
    "plt.show()"
   ]
  },
  {
   "cell_type": "markdown",
   "metadata": {},
   "source": [
    "### Métodos estatísticos do NumPy"
   ]
  },
  {
   "cell_type": "code",
   "execution_count": 106,
   "metadata": {},
   "outputs": [
    {
     "name": "stdout",
     "output_type": "stream",
     "text": [
      "[95. 50. 84. 67. 88. 39. 39. 41.  5. 26.  3. 81. 29. 71. 98. 52. 16. 66.\n",
      " 16. 80. 46. 28. 85.  8. 46. 57. 43. 78. 79.  1. 10. 31. 98. 40. 10. 48.\n",
      " 83. 56. 82. 64. 74. 80. 56. 92. 68. 27. 24. 16. 50. 41. 55. 28. 95. 14.\n",
      " 64. 85. 29. 81.  7. 74. 63. 40. 64. 53. 22. 75. 90. 62. 89. 54. 99. 33.\n",
      " 73. 66. 53.  1. 10. 71. 28. 14. 16. 32. 63. 29.  7. 56.  3. 71. 66. 36.\n",
      " 90. 55. 55. 95. 28.  4. 47.  6. 56. 75.]\n"
     ]
    }
   ],
   "source": [
    "# Criando um array\n",
    "numerosQuaisquer = (np.random.rand(100)*100).round()\n",
    "print(numerosQuaisquer)"
   ]
  },
  {
   "cell_type": "code",
   "execution_count": 100,
   "metadata": {},
   "outputs": [
    {
     "data": {
      "text/plain": [
       "50.26"
      ]
     },
     "execution_count": 100,
     "metadata": {},
     "output_type": "execute_result"
    }
   ],
   "source": [
    "# Média: objetos herdam métodos da classe principal\n",
    "# np.mean(numerosQuaisquer)\n",
    "numerosQuaisquer.mean()"
   ]
  },
  {
   "cell_type": "code",
   "execution_count": 88,
   "metadata": {},
   "outputs": [
    {
     "data": {
      "text/plain": [
       "50.5"
      ]
     },
     "execution_count": 88,
     "metadata": {},
     "output_type": "execute_result"
    }
   ],
   "source": [
    "# Possivelmente mediana\n",
    "np.median(numerosQuaisquer)"
   ]
  },
  {
   "cell_type": "code",
   "execution_count": 89,
   "metadata": {},
   "outputs": [
    {
     "data": {
      "text/plain": [
       "27.799143871709433"
      ]
     },
     "execution_count": 89,
     "metadata": {},
     "output_type": "execute_result"
    }
   ],
   "source": [
    "# Desvio padrão\n",
    "np.std(numerosQuaisquer)"
   ]
  },
  {
   "cell_type": "code",
   "execution_count": 90,
   "metadata": {},
   "outputs": [
    {
     "data": {
      "text/plain": [
       "772.7924"
      ]
     },
     "execution_count": 90,
     "metadata": {},
     "output_type": "execute_result"
    }
   ],
   "source": [
    "# Variância\n",
    "np.var(numerosQuaisquer)"
   ]
  },
  {
   "cell_type": "code",
   "execution_count": 91,
   "metadata": {},
   "outputs": [
    {
     "data": {
      "text/plain": [
       "5026.0"
      ]
     },
     "execution_count": 91,
     "metadata": {},
     "output_type": "execute_result"
    }
   ],
   "source": [
    "# Soma dos elementos do array\n",
    "np.sum(numerosQuaisquer)"
   ]
  },
  {
   "cell_type": "code",
   "execution_count": 92,
   "metadata": {},
   "outputs": [
    {
     "data": {
      "text/plain": [
       "99.0"
      ]
     },
     "execution_count": 92,
     "metadata": {},
     "output_type": "execute_result"
    }
   ],
   "source": [
    "# Valor máximo no array\n",
    "np.max(numerosQuaisquer)"
   ]
  },
  {
   "cell_type": "code",
   "execution_count": 93,
   "metadata": {},
   "outputs": [
    {
     "data": {
      "text/plain": [
       "4.0"
      ]
     },
     "execution_count": 93,
     "metadata": {},
     "output_type": "execute_result"
    }
   ],
   "source": [
    "# Valor mínimo no array\n",
    "np.min(numerosQuaisquer)"
   ]
  },
  {
   "cell_type": "code",
   "execution_count": 94,
   "metadata": {},
   "outputs": [
    {
     "data": {
      "text/plain": [
       "array([  96.,  148.,  212.,  297.,  369.,  444.,  528.,  537.,  584.,\n",
       "        607.,  660.,  749.,  808.,  829.,  887.,  891.,  919., 1012.,\n",
       "       1063., 1142., 1230., 1327., 1396., 1413., 1430., 1518., 1567.,\n",
       "       1655., 1747., 1755., 1768., 1817., 1828., 1869., 1910., 1921.,\n",
       "       1940., 2039., 2125., 2134., 2150., 2202., 2209., 2249., 2300.,\n",
       "       2330., 2416., 2438., 2493., 2515., 2528., 2585., 2633., 2714.,\n",
       "       2761., 2835., 2854., 2911., 2972., 3021., 3027., 3115., 3127.,\n",
       "       3210., 3217., 3269., 3307., 3317., 3352., 3450., 3509., 3542.,\n",
       "       3597., 3633., 3683., 3696., 3779., 3867., 3920., 3994., 4057.,\n",
       "       4075., 4136., 4169., 4253., 4288., 4306., 4363., 4425., 4515.,\n",
       "       4580., 4616., 4699., 4749., 4791., 4880., 4927., 4946., 4981.,\n",
       "       5026.])"
      ]
     },
     "execution_count": 94,
     "metadata": {},
     "output_type": "execute_result"
    }
   ],
   "source": [
    "# Soma acumulada\n",
    "np.cumsum(numerosQuaisquer)"
   ]
  },
  {
   "cell_type": "code",
   "execution_count": 97,
   "metadata": {},
   "outputs": [
    {
     "data": {
      "text/plain": [
       "array([9.60000000e+001, 4.99200000e+003, 3.19488000e+005, 2.71564800e+007,\n",
       "       1.95526656e+009, 1.46644992e+011, 1.23181793e+013, 1.10863614e+014,\n",
       "       5.21058986e+015, 1.19843567e+017, 6.35170903e+018, 5.65302104e+020,\n",
       "       3.33528241e+022, 7.00409307e+023, 4.06237398e+025, 1.62494959e+026,\n",
       "       4.54985886e+027, 4.23136874e+029, 2.15799806e+031, 1.70481846e+033,\n",
       "       1.50024025e+035, 1.45523304e+037, 1.00411080e+039, 1.70698836e+040,\n",
       "       2.90188021e+041, 2.55365458e+043, 1.25129075e+045, 1.10113586e+047,\n",
       "       1.01304499e+049, 8.10435990e+049, 1.05356679e+051, 5.16247726e+052,\n",
       "       5.67872498e+053, 2.32827724e+055, 9.54593669e+056, 1.05005304e+058,\n",
       "       1.99510077e+059, 1.97514976e+061, 1.69862879e+063, 1.52876592e+064,\n",
       "       2.44602546e+065, 1.27193324e+067, 8.90353269e+067, 3.56141308e+069,\n",
       "       1.81632067e+071, 5.44896201e+072, 4.68610733e+074, 1.03094361e+076,\n",
       "       5.67018986e+077, 1.24744177e+079, 1.62167430e+080, 9.24354352e+081,\n",
       "       4.43690089e+083, 3.59388972e+085, 1.68912817e+087, 1.24995484e+089,\n",
       "       2.37491420e+090, 1.35370110e+092, 8.25757669e+093, 4.04621258e+095,\n",
       "       2.42772755e+096, 2.13640024e+098, 2.56368029e+099, 2.12785464e+101,\n",
       "       1.48949825e+102, 7.74539089e+103, 2.94324854e+105, 2.94324854e+106,\n",
       "       1.03013699e+108, 1.00953425e+110, 5.95625207e+111, 1.96556318e+113,\n",
       "       1.08105975e+115, 3.89181510e+116, 1.94590755e+118, 2.52967982e+119,\n",
       "       2.09963425e+121, 1.84767814e+123, 9.79269413e+124, 7.24659365e+126,\n",
       "       4.56535400e+128, 8.21763720e+129, 5.01275869e+131, 1.65421037e+133,\n",
       "       1.38953671e+135, 4.86337848e+136, 8.75408127e+137, 4.98982633e+139,\n",
       "       3.09369232e+141, 2.78432309e+143, 1.80981001e+145, 6.51531603e+146,\n",
       "       5.40771230e+148, 2.70385615e+150, 1.13561958e+152, 1.01070143e+154,\n",
       "       4.75029672e+155, 9.02556377e+156, 3.15894732e+158, 1.42152629e+160])"
      ]
     },
     "execution_count": 97,
     "metadata": {},
     "output_type": "execute_result"
    }
   ],
   "source": [
    "# Produto acumulado\n",
    "np.cumprod(numerosQuaisquer)\n",
    "# np.cumproduct(numerosQuaisquer)"
   ]
  },
  {
   "cell_type": "code",
   "execution_count": 102,
   "metadata": {},
   "outputs": [
    {
     "name": "stdout",
     "output_type": "stream",
     "text": [
      "[ 0.00277674 -0.02841669] (2,)\n"
     ]
    }
   ],
   "source": [
    "a = np.random.randn(400,2)\n",
    "m = a.mean(0)\n",
    "print(m, m.shape)"
   ]
  },
  {
   "cell_type": "code",
   "execution_count": 103,
   "metadata": {},
   "outputs": [
    {
     "name": "stdout",
     "output_type": "stream",
     "text": [
      "[[-3.07018641e-01 -1.50995580e+00]\n",
      " [ 5.20319908e-01  1.25239686e+00]\n",
      " [ 6.19597328e-01  4.89307313e-02]\n",
      " [-1.04000888e+00  4.61939822e-01]\n",
      " [ 2.35585759e-01 -1.98689305e-01]\n",
      " [ 8.10984080e-01  1.74586930e-01]\n",
      " [ 8.91094685e-01 -6.12984826e-01]\n",
      " [-9.93652605e-01  7.60400916e-01]\n",
      " [-3.19918958e-01 -5.06637073e-01]\n",
      " [ 3.77975354e-01 -2.51901038e+00]\n",
      " [-2.99153130e+00 -1.66907616e+00]\n",
      " [ 1.36261321e+00  1.07657472e-01]\n",
      " [-6.64024113e-01  2.25555451e-01]\n",
      " [ 1.17043584e+00 -1.03908264e+00]\n",
      " [-5.11526609e-01 -7.32763679e-01]\n",
      " [-5.63679239e-01 -1.00499984e-01]\n",
      " [-1.15561282e+00  1.78927252e+00]\n",
      " [-1.19120790e-02 -7.78557650e-01]\n",
      " [ 2.22123608e-01  4.57653336e-01]\n",
      " [ 3.37038833e-01  1.31984639e+00]\n",
      " [ 1.04120778e+00 -7.36815356e-01]\n",
      " [-1.64685938e+00  7.70896746e-01]\n",
      " [ 1.33050867e+00  8.89714062e-01]\n",
      " [-1.35612150e+00  1.10798383e+00]\n",
      " [-2.10579373e+00 -6.07321123e-01]\n",
      " [ 1.16074467e+00  4.55098878e-01]\n",
      " [ 6.80437926e-02  1.81639800e+00]\n",
      " [-1.05250148e+00  8.50675177e-01]\n",
      " [ 9.56029437e-01  5.25493275e-01]\n",
      " [ 6.83739796e-01 -2.72682320e-01]\n",
      " [ 1.15888097e+00  1.25006840e+00]\n",
      " [-1.37501785e-01  2.47880055e-01]\n",
      " [ 1.31787629e+00 -8.63117773e-01]\n",
      " [-1.08971309e+00  1.55107060e+00]\n",
      " [ 1.43357377e+00 -7.25798220e-01]\n",
      " [-1.73863031e+00  5.13835505e-01]\n",
      " [-1.60662610e+00  7.96554226e-02]\n",
      " [ 1.66185735e+00 -2.39100167e+00]\n",
      " [-2.83649390e+00  1.50471146e-01]\n",
      " [ 7.41975708e-01  6.94004892e-01]\n",
      " [-2.65541431e+00  1.50922412e-01]\n",
      " [ 4.15742388e-01  1.28264869e+00]\n",
      " [ 1.98105955e+00  3.24898436e-01]\n",
      " [ 4.86590395e-02 -6.44224918e-02]\n",
      " [-7.38141295e-01  1.64854713e-01]\n",
      " [-1.29086597e-01  1.04053933e+00]\n",
      " [-1.47411568e+00  5.67578528e-02]\n",
      " [ 2.29087690e+00  3.06784779e-01]\n",
      " [-6.10874699e-01  7.36372773e-01]\n",
      " [-5.77364495e-01  3.18470768e-01]\n",
      " [-3.55770164e-01 -6.79300668e-01]\n",
      " [ 1.93537336e-01 -2.26754172e-01]\n",
      " [-6.36435931e-01  1.56033072e+00]\n",
      " [-3.51824151e-03  3.36794440e-01]\n",
      " [-1.80585907e-01 -1.57493286e-01]\n",
      " [ 7.08942550e-01 -3.96961178e-01]\n",
      " [-1.67744557e-01  4.97951685e-01]\n",
      " [ 5.63883176e-01  1.48396510e+00]\n",
      " [ 1.46150483e+00  2.04722502e+00]\n",
      " [ 3.90913011e-01 -7.41072989e-01]\n",
      " [ 5.85203184e-01  1.23375965e+00]\n",
      " [-3.91799983e-01  1.68875889e+00]\n",
      " [-1.96729008e-01 -4.29364675e-01]\n",
      " [-7.88023329e-01 -7.18292080e-02]\n",
      " [-6.62331829e-01 -4.34357760e-01]\n",
      " [ 7.64463524e-01  6.30133642e-01]\n",
      " [-1.02344471e+00  1.17516154e+00]\n",
      " [ 5.48447689e-01  1.66133100e-01]\n",
      " [-5.31945243e-02 -8.41631758e-01]\n",
      " [-2.02673559e-01 -9.11430109e-01]\n",
      " [ 4.34357578e-01  1.29781524e+00]\n",
      " [-3.36725882e-01  6.60861582e-01]\n",
      " [-3.39135519e-01  1.34395973e-02]\n",
      " [ 9.42084470e-01  3.83788011e-01]\n",
      " [-9.61206332e-02  6.66262967e-02]\n",
      " [ 3.54378946e-02  8.51715347e-02]\n",
      " [ 8.16832323e-03  8.28872892e-01]\n",
      " [-9.67618424e-01 -1.00875876e+00]\n",
      " [-1.42046240e+00 -8.97093893e-01]\n",
      " [ 5.94449956e-01  7.63163305e-01]\n",
      " [-4.32371317e-01 -1.16026812e-01]\n",
      " [-1.05743994e+00  2.16765839e-01]\n",
      " [-4.19546465e-01  8.69969874e-02]\n",
      " [-1.20474264e+00 -1.28634008e+00]\n",
      " [ 9.27150276e-01  1.61048139e-01]\n",
      " [ 6.54930455e-01  4.24006070e-01]\n",
      " [ 5.31956661e-01  4.83186602e-01]\n",
      " [-5.80867286e-01 -7.38855627e-02]\n",
      " [-5.94061066e-01  1.65789725e+00]\n",
      " [ 6.86449535e-01 -5.86593393e-02]\n",
      " [ 6.07342725e-02  1.21086998e+00]\n",
      " [-1.00196489e+00 -9.15875500e-01]\n",
      " [-6.36505624e-01  6.51280756e-01]\n",
      " [-7.66721278e-01 -1.08460261e-01]\n",
      " [ 5.48256133e-01  2.05836363e+00]\n",
      " [-1.42447394e+00 -5.26346263e-01]\n",
      " [ 2.04408198e+00 -6.21553293e-02]\n",
      " [-5.60162722e-01 -2.04506338e-01]\n",
      " [ 2.92739433e-01  1.29271497e-01]\n",
      " [-1.17665199e-01  6.73197008e-01]\n",
      " [ 4.26492218e-01  3.07888898e-02]\n",
      " [-1.62764687e+00  6.47321581e-02]\n",
      " [-6.22347433e-01 -2.43163285e-01]\n",
      " [-1.07824506e+00 -9.06121798e-02]\n",
      " [ 8.80774659e-01  8.76444456e-01]\n",
      " [ 1.90212118e-01  3.10229706e-01]\n",
      " [-8.15481368e-01  4.29163820e-02]\n",
      " [ 1.01818614e+00  8.73132526e-01]\n",
      " [-3.00462025e+00  6.77387920e-01]\n",
      " [-6.88978125e-01 -1.01767179e+00]\n",
      " [ 3.47106857e-01  5.27590920e-02]\n",
      " [ 1.93390417e+00 -2.16961443e-01]\n",
      " [-4.41040085e-01  1.23819152e+00]\n",
      " [-1.03167047e+00 -2.61910530e+00]\n",
      " [ 7.02691861e-01  1.94651257e+00]\n",
      " [ 1.42883488e+00 -9.61818995e-01]\n",
      " [ 3.73997083e-01 -9.61943893e-01]\n",
      " [-9.24894058e-01 -3.00568132e-01]\n",
      " [-1.42567138e+00  3.56841266e-01]\n",
      " [-3.17195548e-01  2.13952473e-01]\n",
      " [-1.10155440e+00 -6.23183890e-01]\n",
      " [ 6.38876443e-01 -1.07406162e+00]\n",
      " [ 8.17022540e-01 -1.63217251e+00]\n",
      " [ 7.20872109e-01 -2.00244535e+00]\n",
      " [-9.53234311e-01  1.12605521e+00]\n",
      " [ 1.98331080e-01 -1.03200639e+00]\n",
      " [-3.46748135e-01  2.63938494e+00]\n",
      " [-1.15452303e+00  1.39966252e+00]\n",
      " [ 1.23525543e+00 -5.50188531e-01]\n",
      " [ 2.31601383e-02 -7.36385701e-01]\n",
      " [-7.29844465e-01 -1.54207907e+00]\n",
      " [-2.56964698e-03 -5.79987799e-01]\n",
      " [-1.09406409e-01  1.28151429e-01]\n",
      " [ 1.80426511e-01  1.98302030e-01]\n",
      " [ 1.12833669e+00 -7.98358727e-01]\n",
      " [-1.27581467e+00 -1.31400374e+00]\n",
      " [ 6.68626198e-01  8.75745145e-01]\n",
      " [ 2.32117889e+00 -7.56022315e-01]\n",
      " [-8.34726927e-02 -9.69480620e-01]\n",
      " [ 6.16854153e-01 -3.87041206e-01]\n",
      " [ 6.31443851e-01 -3.42611414e-01]\n",
      " [-6.51162531e-01 -7.95284496e-02]\n",
      " [-1.63990423e+00 -5.08713553e-02]\n",
      " [ 1.13447212e-01  6.90359686e-01]\n",
      " [ 6.29003498e-01  1.40705152e+00]\n",
      " [-1.02822810e+00 -2.52425992e-01]\n",
      " [-2.84491204e-01  9.80857914e-01]\n",
      " [-9.31150441e-01  1.54096243e+00]\n",
      " [-6.63407064e-01  3.46767484e-01]\n",
      " [ 3.35695850e-01 -7.32562560e-01]\n",
      " [ 4.82728446e-01  3.16435066e-01]\n",
      " [-1.26550670e+00  3.71182090e-01]\n",
      " [ 1.78031224e-02 -3.08888239e-01]\n",
      " [ 2.58771086e+00  1.26485853e+00]\n",
      " [-6.73950885e-01  4.14362952e-01]\n",
      " [ 1.16495652e+00  4.56646400e-01]\n",
      " [-5.39543954e-02  6.61543915e-01]\n",
      " [ 2.27090671e+00  3.75277692e-01]\n",
      " [-1.45461517e-01 -7.16495817e-01]\n",
      " [ 3.99668844e-01  3.23528273e+00]\n",
      " [ 1.38123314e+00  2.06551414e+00]\n",
      " [-9.97971164e-01 -1.56945835e+00]\n",
      " [ 1.77247763e+00 -6.67678950e-01]\n",
      " [ 5.47570139e-01  2.08920254e-01]\n",
      " [-8.04826496e-01 -2.87343265e-01]\n",
      " [-4.46295558e-02  5.93827206e-01]\n",
      " [ 1.74633367e+00 -3.87350414e-01]\n",
      " [-1.86983588e+00 -3.39459891e-01]\n",
      " [ 1.69503353e-01 -1.79624370e+00]\n",
      " [ 6.40940896e-01 -7.47300270e-02]\n",
      " [ 1.43933247e+00 -1.25403443e+00]\n",
      " [-1.61135603e-01  7.63631693e-01]\n",
      " [-1.25861723e-01  3.29456940e-01]\n",
      " [-1.46972187e+00  1.36695234e+00]\n",
      " [-1.05565946e+00  1.04516890e+00]\n",
      " [ 9.14510540e-01  1.64957876e+00]\n",
      " [ 1.52030734e+00  1.05703829e-01]\n",
      " [-8.25818177e-01 -4.11088650e-01]\n",
      " [ 6.52754990e-01 -4.13238466e-01]\n",
      " [ 3.33217698e-01  1.00895269e+00]\n",
      " [ 3.49267303e-01 -1.49815916e+00]\n",
      " [-9.18256025e-01  4.12242895e-02]\n",
      " [-7.87497835e-01 -1.60018254e+00]\n",
      " [ 4.87250885e-01 -5.32047864e-01]\n",
      " [-1.51075035e+00 -1.01717030e+00]\n",
      " [-4.87847758e-02  6.25963589e-01]\n",
      " [ 1.60955373e+00 -1.00717719e+00]\n",
      " [ 1.51883182e-02  7.86724954e-01]\n",
      " [-8.36995575e-02  1.24757951e-02]\n",
      " [-2.03986257e-01  3.60013523e-01]\n",
      " [-1.15146000e+00 -8.69451542e-01]\n",
      " [ 4.07574820e-01  3.19618715e-01]\n",
      " [-8.47774919e-01 -4.93772205e-01]\n",
      " [ 2.34260469e+00 -2.64225852e+00]\n",
      " [ 2.69096866e-01 -2.64091414e-01]\n",
      " [ 1.81739324e-01 -4.22325643e-02]\n",
      " [ 1.06916790e+00 -6.68232540e-01]\n",
      " [-7.88415755e-01 -2.73483832e-01]\n",
      " [-4.08509373e-01  2.58559849e+00]\n",
      " [-4.04258157e-01 -5.34116359e-01]\n",
      " [-2.26059870e+00 -1.08435000e+00]\n",
      " [ 1.24776098e+00 -2.05224257e+00]\n",
      " [-2.60825821e+00  1.96754851e-01]\n",
      " [ 8.23722039e-01 -7.30078041e-01]\n",
      " [-6.32742972e-02 -2.91427165e-01]\n",
      " [-2.27052029e-01 -1.29624070e+00]\n",
      " [-5.82541095e-01 -1.21802359e+00]\n",
      " [-6.35407303e-01 -3.44186792e-02]\n",
      " [-1.76948891e+00  2.35550794e+00]\n",
      " [-1.73919395e-02 -1.37788647e+00]\n",
      " [ 8.67869469e-01 -1.34563269e+00]\n",
      " [ 5.17384738e-01  2.15847530e-01]\n",
      " [ 9.18708727e-02 -9.22788792e-01]\n",
      " [ 1.42068387e+00 -1.94575177e+00]\n",
      " [-2.62529114e+00 -5.99458237e-01]\n",
      " [ 5.60298345e-01 -1.87052473e-02]\n",
      " [-3.39627872e-02  4.56137051e-01]\n",
      " [ 1.14879523e-01  6.42537866e-01]\n",
      " [-1.04150133e+00 -1.68050886e+00]\n",
      " [-5.00064324e-01 -1.33342135e+00]\n",
      " [-1.25811671e-01  3.63174812e-01]\n",
      " [ 6.91572881e-02  1.59160460e-01]\n",
      " [ 8.15526380e-01  1.19965438e+00]\n",
      " [ 6.04152664e-01  3.20878974e-01]\n",
      " [ 8.73397471e-02 -9.70416474e-01]\n",
      " [ 5.98461673e-01  3.36474308e-01]\n",
      " [ 5.12880450e-01  1.77946744e+00]\n",
      " [-9.17047395e-01  1.21785256e-02]\n",
      " [ 9.71508543e-01 -1.48387027e-01]\n",
      " [ 3.07826949e-01 -1.38022726e+00]\n",
      " [ 1.68333965e+00  4.58719224e-01]\n",
      " [ 9.31297500e-01 -4.82331206e-01]\n",
      " [ 1.37425482e+00  4.23689266e-01]\n",
      " [ 3.34762159e-01 -2.48571486e-01]\n",
      " [ 6.17950313e-03  4.47892051e-01]\n",
      " [-5.29524309e-01 -2.20042200e-02]\n",
      " [ 1.79957357e+00 -9.25885656e-01]\n",
      " [ 6.69085401e-02 -6.90071340e-01]\n",
      " [ 6.60001111e-01  6.22287963e-01]\n",
      " [ 1.60564171e+00 -3.03977095e-01]\n",
      " [-5.97269531e-01 -9.17368103e-01]\n",
      " [-4.58670882e-01 -2.04644186e+00]\n",
      " [ 2.14714330e-01 -4.82686727e-01]\n",
      " [ 1.39297354e+00  9.09456025e-01]\n",
      " [ 9.39614210e-01 -1.03447733e+00]\n",
      " [-2.06229842e-01 -1.22722044e+00]\n",
      " [-9.53994088e-01 -9.63229198e-01]\n",
      " [ 6.14432337e-01  4.31187492e-02]\n",
      " [ 1.32347061e+00  3.87611766e-01]\n",
      " [ 1.07467722e+00  8.78308940e-01]\n",
      " [-2.96017396e-01 -1.14307426e+00]\n",
      " [ 7.11725461e-01  5.22502837e-01]\n",
      " [-1.38679627e+00  2.99463148e-01]\n",
      " [ 1.99514043e+00 -8.56628820e-01]\n",
      " [ 3.10432662e-01 -9.76055766e-01]\n",
      " [-5.33252047e-01 -1.24543824e+00]\n",
      " [ 5.64478024e-01  1.43137650e-01]\n",
      " [ 1.20886715e+00 -1.15815448e+00]\n",
      " [-4.74407531e-01  5.54197178e-02]\n",
      " [-8.56449947e-01 -6.13211231e-01]\n",
      " [ 1.63178029e-01 -5.23134264e-01]\n",
      " [-6.91757230e-01 -1.26464630e+00]\n",
      " [-1.54804782e+00  1.33514384e-02]\n",
      " [ 3.64671524e-01 -7.37568033e-01]\n",
      " [-1.47065583e-01  2.84897988e-01]\n",
      " [ 1.12020948e+00 -4.41077654e-01]\n",
      " [ 4.40083344e-02  7.10242127e-01]\n",
      " [ 2.48005743e+00 -1.23174099e+00]\n",
      " [ 4.62410221e-01  1.86226957e-01]\n",
      " [-1.58491708e+00 -6.49097942e-01]\n",
      " [-8.65184437e-01  7.13105919e-02]\n",
      " [-3.52362291e-02  1.34589377e+00]\n",
      " [ 4.95993567e-01 -1.37145114e-01]\n",
      " [-1.02801975e+00  2.31592917e-01]\n",
      " [ 3.58189819e-01 -4.00032303e-01]\n",
      " [-1.05629715e+00  1.20385248e-01]\n",
      " [ 3.32648636e-01  1.31713346e-01]\n",
      " [ 1.61452199e+00  7.17763221e-01]\n",
      " [ 1.84099332e+00  7.44572540e-02]\n",
      " [-1.26983322e+00 -8.85263881e-01]\n",
      " [ 6.39831601e-01 -5.18050813e-02]\n",
      " [-1.96610272e-01  1.05569357e+00]\n",
      " [-5.80169207e-01  4.08704933e-01]\n",
      " [ 1.16883925e+00 -1.26962481e+00]\n",
      " [-1.41393830e+00  7.05704591e-02]\n",
      " [-2.43544303e+00  1.07688530e-01]\n",
      " [ 4.94462068e-01  1.45598742e+00]\n",
      " [ 1.09480754e-01 -2.68838934e-01]\n",
      " [ 1.42716702e+00 -1.28989685e+00]\n",
      " [-4.59913823e-01  1.33783157e+00]\n",
      " [-3.02584753e-01  3.92499089e-01]\n",
      " [-1.70698797e-01 -3.59802655e-01]\n",
      " [-3.75242294e-01 -4.68739049e-01]\n",
      " [ 7.66939816e-01 -4.81948763e-01]\n",
      " [-1.69884091e+00 -6.91388138e-01]\n",
      " [-2.70499622e-01 -4.13346542e-01]\n",
      " [ 3.49694112e-01 -2.18085264e+00]\n",
      " [-2.64911291e-01  3.55263774e-01]\n",
      " [-1.99348758e-01  3.96515549e-01]\n",
      " [ 1.08448212e+00 -8.73813946e-01]\n",
      " [ 6.16563956e-01 -1.99827198e-01]\n",
      " [ 1.26182264e+00 -1.78571228e+00]\n",
      " [-1.83993848e+00 -8.38598164e-03]\n",
      " [ 9.21959637e-03 -1.76398651e+00]\n",
      " [ 3.93656782e-01 -4.99826541e-01]\n",
      " [ 4.25289338e-01  1.41189194e+00]\n",
      " [-1.84426522e+00  6.31289707e-01]\n",
      " [-2.92940270e-01 -1.17034951e+00]\n",
      " [ 3.39063581e-01  7.97949287e-01]\n",
      " [ 1.17266009e+00 -1.03986108e+00]\n",
      " [-2.35530763e-01 -8.40508287e-02]\n",
      " [ 9.41076512e-01 -9.49656280e-01]\n",
      " [ 3.64784844e-01  6.55159906e-01]\n",
      " [-1.70477270e+00 -1.12120405e-01]\n",
      " [-2.43843830e+00 -5.68323923e-01]\n",
      " [-1.25093594e+00  1.09219166e-01]\n",
      " [ 5.11890637e-01 -6.59748924e-01]\n",
      " [-2.43335704e-01  2.18613198e-01]\n",
      " [ 1.43965802e+00 -1.08356864e+00]\n",
      " [ 2.80220467e-02  2.19500688e-01]\n",
      " [-2.21264710e+00 -9.47808198e-01]\n",
      " [-1.08775092e-01 -5.29239348e-01]\n",
      " [-1.36795803e+00 -1.32531966e+00]\n",
      " [-2.71213786e-02 -3.24537087e-01]\n",
      " [ 2.90835535e-01 -1.25622255e+00]\n",
      " [ 1.22005879e+00  1.00407911e+00]\n",
      " [ 7.10255116e-01  1.09373086e+00]\n",
      " [-1.51962165e-01 -1.95937316e+00]\n",
      " [ 1.15764726e+00 -1.62642595e+00]\n",
      " [-1.44482097e+00  1.56114172e+00]\n",
      " [ 1.96213997e-01  1.18557288e+00]\n",
      " [-2.44897366e+00 -8.92512524e-01]\n",
      " [ 3.50459311e-01 -1.29797244e+00]\n",
      " [ 1.28167527e+00 -5.90600434e-01]\n",
      " [ 1.82788411e+00  6.17776045e-01]\n",
      " [-5.11025755e-01 -2.71955121e-01]\n",
      " [-7.05701011e-02  1.14613123e+00]\n",
      " [-9.22367641e-01 -2.27340534e-01]\n",
      " [ 9.51455494e-01  1.24417316e+00]\n",
      " [ 1.88609522e+00 -1.19685998e+00]\n",
      " [ 1.79739012e-01 -5.71905038e-01]\n",
      " [-7.98237889e-02  3.58404290e-01]\n",
      " [-8.99614515e-01  7.40131208e-01]\n",
      " [ 2.40851965e+00  5.86408076e-01]\n",
      " [-2.67623008e-01  1.94577802e-01]\n",
      " [-4.63026857e-01  7.44547865e-02]\n",
      " [-1.58222161e+00  9.85923042e-01]\n",
      " [-2.05439640e-02  6.95138339e-01]\n",
      " [ 4.30022575e-01  2.69824076e-01]\n",
      " [ 3.67718890e-01  1.33396514e-01]\n",
      " [ 2.08219926e-01  5.59063228e-01]\n",
      " [ 1.95442829e+00 -8.97663508e-01]\n",
      " [ 8.96899230e-01 -1.39543081e+00]\n",
      " [ 6.06801807e-01  1.07523109e-01]\n",
      " [ 1.23527606e+00  1.19802769e+00]\n",
      " [-5.39444268e-01  1.25696761e+00]\n",
      " [ 2.08280584e-01  1.11714960e+00]\n",
      " [-1.10459272e+00  5.75807150e-01]\n",
      " [ 1.12108330e+00 -7.45710325e-01]\n",
      " [ 1.35283220e-01 -9.77184757e-01]\n",
      " [ 8.79773766e-01  3.18087412e-01]\n",
      " [ 1.31740720e+00  2.24667584e-01]\n",
      " [ 1.68031100e-01 -9.35553334e-01]\n",
      " [-1.08049150e+00  1.72582161e+00]\n",
      " [-4.03069331e-01 -1.44054408e+00]\n",
      " [-4.48603791e-01 -8.28089497e-02]\n",
      " [ 7.76265852e-01 -9.74470401e-01]\n",
      " [ 9.85741068e-01  6.79642068e-01]\n",
      " [ 7.36956110e-01 -1.33938555e+00]\n",
      " [ 2.18231591e+00  1.06989821e+00]\n",
      " [-1.27219761e+00  3.00988447e-01]\n",
      " [-4.48672658e-01  1.24764997e+00]\n",
      " [-1.75906202e+00 -9.45583511e-01]\n",
      " [-1.23346625e+00 -2.58098241e-01]\n",
      " [ 8.15904325e-01  1.09564001e+00]\n",
      " [-1.35759878e+00  1.34558740e+00]\n",
      " [-1.32801131e+00  1.04662134e+00]\n",
      " [-3.64251683e-01 -2.31313539e-01]\n",
      " [-7.90524200e-01  6.26125014e-01]\n",
      " [ 1.51268690e+00  8.24614623e-01]\n",
      " [ 1.07669040e+00  7.11254743e-01]\n",
      " [ 1.01731842e+00 -4.16710188e-02]\n",
      " [ 8.04476135e-01  1.73933761e+00]\n",
      " [-2.26266900e-01 -8.02211903e-01]\n",
      " [-2.96805709e-01  7.70827571e-01]\n",
      " [-1.55458526e+00 -2.90930709e-01]\n",
      " [-8.69234760e-02 -7.12181882e-01]\n",
      " [-9.16786161e-01 -9.64044233e-01]\n",
      " [-1.30438404e+00  9.34140324e-01]\n",
      " [-3.08633450e-01  1.30868032e+00]\n",
      " [ 1.40235678e+00 -6.76672894e-01]\n",
      " [ 1.95340434e+00 -1.16092000e+00]\n",
      " [-5.99403105e-01 -2.18830293e-01]\n",
      " [ 5.40813272e-01 -3.13999244e-01]\n",
      " [ 3.23848251e-01 -8.60105910e-01]\n",
      " [-1.10003566e-01 -2.13965073e-01]\n",
      " [-3.00328960e-01  6.05559117e-01]\n",
      " [-2.80140008e+00 -6.67201887e-02]\n",
      " [ 3.73949186e-02 -2.66297037e-01]\n",
      " [-5.67611383e-01  2.27221050e-01]]\n"
     ]
    }
   ],
   "source": [
    "print(a)"
   ]
  },
  {
   "cell_type": "code",
   "execution_count": 104,
   "metadata": {},
   "outputs": [
    {
     "data": {
      "image/png": "[encoded data removed]",
      "text/plain": [
       "<Figure size 432x288 with 1 Axes>"
      ]
     },
     "metadata": {
      "needs_background": "light"
     },
     "output_type": "display_data"
    }
   ],
   "source": [
    "plt.plot(a[:, 0], a[:, 1], 'o', markersize=5, alpha=0.50)\n",
    "plt.plot(m[0], m[1], 'ro', markersize=10)\n",
    "plt.show()"
   ]
  },
  {
   "cell_type": "markdown",
   "metadata": {},
   "source": [
    "### Outras operações com arrays: Slicing"
   ]
  },
  {
   "cell_type": "code",
   "execution_count": 111,
   "metadata": {},
   "outputs": [
    {
     "data": {
      "text/plain": [
       "array([[0, 0, 0],\n",
       "       [0, 1, 0],\n",
       "       [0, 0, 2]])"
      ]
     },
     "execution_count": 111,
     "metadata": {},
     "output_type": "execute_result"
    }
   ],
   "source": [
    "# Criando uma matriz\n",
    "m = np.diag(np.arange(3))\n",
    "m"
   ]
  },
  {
   "cell_type": "code",
   "execution_count": 113,
   "metadata": {},
   "outputs": [
    {
     "data": {
      "text/plain": [
       "1"
      ]
     },
     "execution_count": 113,
     "metadata": {},
     "output_type": "execute_result"
    }
   ],
   "source": [
    "# Acessando um elemento da matriz\n",
    "m[1,1]"
   ]
  },
  {
   "cell_type": "code",
   "execution_count": 114,
   "metadata": {},
   "outputs": [
    {
     "data": {
      "text/plain": [
       "array([0, 1, 0])"
      ]
     },
     "execution_count": 114,
     "metadata": {},
     "output_type": "execute_result"
    }
   ],
   "source": [
    "# Acessando uma linha da matriz\n",
    "m[1]"
   ]
  },
  {
   "cell_type": "code",
   "execution_count": null,
   "metadata": {},
   "outputs": [],
   "source": []
  }
 ],
 "metadata": {
  "kernelspec": {
   "display_name": "Python 3.6.9 64-bit ('data-science-basics': virtualenv)",
   "language": "python",
   "name": "python36964bitdatasciencebasicsvirtualenvbaeb52db399746c2a1b6eb4c8172486d"
  },
  "language_info": {
   "codemirror_mode": {
    "name": "ipython",
    "version": 3
   },
   "file_extension": ".py",
   "mimetype": "text/x-python",
   "name": "python",
   "nbconvert_exporter": "python",
   "pygments_lexer": "ipython3",
   "version": "3.6.9"
  }
 },
 "nbformat": 4,
 "nbformat_minor": 2
}
